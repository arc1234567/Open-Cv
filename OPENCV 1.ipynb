{
 "cells": [
  {
   "cell_type": "code",
   "execution_count": 1,
   "metadata": {},
   "outputs": [
    {
     "name": "stdout",
     "output_type": "stream",
     "text": [
      "4.1.0\n"
     ]
    }
   ],
   "source": [
    "import cv2\n",
    "print(cv2.__version__)"
   ]
  },
  {
   "cell_type": "code",
   "execution_count": 2,
   "metadata": {},
   "outputs": [],
   "source": [
    "imgpath=\"C:\\\\Users\\\\ARIJIT ROYCHAUDHURY\\\\Downloads\\\\misc\\\\misc\\\\4.2.03.tiff\"\n",
    "img=cv2.imread(imgpath,-1)\n",
    "outpath=\"C:\\\\Users\\\\ARIJIT ROYCHAUDHURY\\\\Downloads\\\\misc\\\\output\\\\4.2.03.jpg\"\n",
    "cv2.namedWindow(\"Monkey\",cv2.WINDOW_AUTOSIZE)\n",
    "cv2.imshow(\"Monkey\",img)\n",
    "cv2.imwrite(outpath,img)\n",
    "cv2.waitKey(0)\n",
    "cv2.destroyAllWindows()"
   ]
  },
  {
   "cell_type": "code",
   "execution_count": 3,
   "metadata": {},
   "outputs": [
    {
     "name": "stdout",
     "output_type": "stream",
     "text": [
      "<class 'numpy.ndarray'>\n",
      "[[[ 71 150 164]\n",
      "  [ 31  57  63]\n",
      "  [ 10  43  75]\n",
      "  ...\n",
      "  [ 68 119 117]\n",
      "  [101 170 141]\n",
      "  [118 188 179]]\n",
      "\n",
      " [[ 62 125 120]\n",
      "  [ 33  97 135]\n",
      "  [ 23  35  55]\n",
      "  ...\n",
      "  [ 98 140 122]\n",
      "  [128 159 136]\n",
      "  [ 74 138 120]]\n",
      "\n",
      " [[ 31  74  99]\n",
      "  [ 46 118 132]\n",
      "  [ 36  41  60]\n",
      "  ...\n",
      "  [ 90  93 118]\n",
      "  [ 77  91  87]\n",
      "  [ 49  80  96]]\n",
      "\n",
      " ...\n",
      "\n",
      " [[155 148 121]\n",
      "  [150 156 123]\n",
      "  [139 150 124]\n",
      "  ...\n",
      "  [ 60  73 110]\n",
      "  [ 70  93  90]\n",
      "  [ 60  80  81]]\n",
      "\n",
      " [[168 169 126]\n",
      "  [151 151 117]\n",
      "  [133 136 121]\n",
      "  ...\n",
      "  [ 68  84  73]\n",
      "  [ 86  69  99]\n",
      "  [ 71  63  80]]\n",
      "\n",
      " [[ 12  11   9]\n",
      "  [ 11  12  10]\n",
      "  [ 12  15  11]\n",
      "  ...\n",
      "  [  5   8   5]\n",
      "  [  0   5   2]\n",
      "  [  2   5   4]]]\n"
     ]
    }
   ],
   "source": [
    "print(type(img))\n",
    "print(img)"
   ]
  },
  {
   "cell_type": "code",
   "execution_count": 4,
   "metadata": {},
   "outputs": [
    {
     "name": "stdout",
     "output_type": "stream",
     "text": [
      "uint8\n",
      "(512, 512, 3)\n",
      "3\n",
      "786432\n"
     ]
    }
   ],
   "source": [
    "print(img.dtype)\n",
    "print(img.shape)\n",
    "print(img.ndim)\n",
    "print(img.size)\n",
    "#uint8= unsigned integer of 8-bits\n",
    "# 256*256*256 no of colours"
   ]
  },
  {
   "cell_type": "code",
   "execution_count": null,
   "metadata": {},
   "outputs": [],
   "source": []
  }
 ],
 "metadata": {
  "kernelspec": {
   "display_name": "Python 3",
   "language": "python",
   "name": "python3"
  },
  "language_info": {
   "codemirror_mode": {
    "name": "ipython",
    "version": 3
   },
   "file_extension": ".py",
   "mimetype": "text/x-python",
   "name": "python",
   "nbconvert_exporter": "python",
   "pygments_lexer": "ipython3",
   "version": "3.7.1"
  }
 },
 "nbformat": 4,
 "nbformat_minor": 2
}
