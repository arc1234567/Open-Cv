{
 "cells": [
  {
   "cell_type": "code",
   "execution_count": 1,
   "metadata": {},
   "outputs": [],
   "source": [
    "import cv2\n",
    "import numpy as np"
   ]
  },
  {
   "cell_type": "code",
   "execution_count": 4,
   "metadata": {},
   "outputs": [],
   "source": [
    "windowName=\"General\"\n",
    "cv2.namedWindow(windowName)\n",
    "cap=cv2.VideoCapture(0)\n",
    "filename=\"C:\\\\Users\\\\ARIJIT ROYCHAUDHURY\\\\Documents\\\\video recrding.avi\"\n",
    "codec=cv2.VideoWriter_fourcc(\"W\",\"M\",\"V\",\"2\")\n",
    "framerate=30\n",
    "resolution=(640,480)\n",
    "VideoFileOutput=cv2.VideoWriter(filename,codec,framerate,resolution)\n",
    "if cap.isOpened():\n",
    "    ret,frame=cap.read()\n",
    "else:\n",
    "    ret=false\n",
    "while ret:\n",
    "    ret,frame=cap.read()\n",
    "    hsv=cv2.cvtColor(frame,cv2.COLOR_BGR2RGB)\n",
    "    #BLUE COLOR\n",
    "    low=np.array([100,50,50])\n",
    "    high=np.array([140,255,255])\n",
    "    #Red Color\n",
    "    #low=np.array([140,150,0])\n",
    "    #high=np.array([180,255,255])\n",
    "    #Green Color\n",
    "    #low=np.array([40,50,50])\n",
    "    #high=np.array([80,255,255])\n",
    "    imagemask=cv2.inRange(hsv,low,high)\n",
    "    output=cv2.bitwise_and(frame,frame,mask=imagemask)\n",
    "    VideoFileOutput.write(imagemask)\n",
    "    cv2.imshow(\"ImageMask\",imagemask)\n",
    "    cv2.imshow(\"Detect Color\",output)\n",
    "    cv2.imshow(windowName,frame)\n",
    "    if(cv2.waitKey(1)==27):\n",
    "        break\n",
    "cv2.destroyAllWindows()\n",
    "VideoFileOutput.release()\n",
    "cap.release()"
   ]
  },
  {
   "cell_type": "code",
   "execution_count": null,
   "metadata": {},
   "outputs": [],
   "source": []
  }
 ],
 "metadata": {
  "kernelspec": {
   "display_name": "Python 3",
   "language": "python",
   "name": "python3"
  },
  "language_info": {
   "codemirror_mode": {
    "name": "ipython",
    "version": 3
   },
   "file_extension": ".py",
   "mimetype": "text/x-python",
   "name": "python",
   "nbconvert_exporter": "python",
   "pygments_lexer": "ipython3",
   "version": "3.7.1"
  }
 },
 "nbformat": 4,
 "nbformat_minor": 2
}
